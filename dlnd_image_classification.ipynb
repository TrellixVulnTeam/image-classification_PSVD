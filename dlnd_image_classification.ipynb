{
 "cells": [
  {
   "cell_type": "markdown",
   "metadata": {
    "colab_type": "text",
    "id": "x2_4C4LmTIqk"
   },
   "source": [
    "# 图像分类\n",
    "\n",
    "在此项目中，你将对 [CIFAR-10 数据集](https://www.cs.toronto.edu/~kriz/cifar.html) 中的图片进行分类。该数据集包含飞机、猫狗和其他物体。你需要预处理这些图片，然后用所有样本训练一个卷积神经网络。图片需要标准化（normalized），标签需要采用 one-hot 编码。你需要应用所学的知识构建卷积的、最大池化（max pooling）、丢弃（dropout）和完全连接（fully connected）的层。最后，你需要在样本图片上看到神经网络的预测结果。\n",
    "\n",
    "\n",
    "## 获取数据\n",
    "\n",
    "请运行以下单元，以下载 [CIFAR-10 数据集（Python版）](https://www.cs.toronto.edu/~kriz/cifar-10-python.tar.gz)。\n"
   ]
  },
  {
   "cell_type": "code",
   "execution_count": 6,
   "metadata": {
    "colab": {
     "autoexec": {
      "startup": false,
      "wait_interval": 0
     },
     "base_uri": "https://localhost:8080/",
     "height": 52,
     "output_extras": [
      {
       "item_id": 592
      },
      {
       "item_id": 593
      }
     ]
    },
    "colab_type": "code",
    "executionInfo": {
     "elapsed": 340133,
     "status": "ok",
     "timestamp": 1522225814903,
     "user": {
      "displayName": "谢俊华",
      "photoUrl": "https://lh3.googleusercontent.com/a/default-user=s128",
      "userId": "105546544206578000210"
     },
     "user_tz": -480
    },
    "id": "jTFmtx42TIql",
    "outputId": "41a5dbd4-4617-4ad3-cf6f-4b84094987fe"
   },
   "outputs": [
    {
     "name": "stderr",
     "output_type": "stream",
     "text": [
      "CIFAR-10 Dataset: 171MB [05:30, 516kB/s]                           \n"
     ]
    },
    {
     "name": "stdout",
     "output_type": "stream",
     "text": [
      "All files found!\n"
     ]
    }
   ],
   "source": [
    "\"\"\"\n",
    "DON'T MODIFY ANYTHING IN THIS CELL THAT IS BELOW THIS LINE\n",
    "\"\"\"\n",
    "from urllib.request import urlretrieve\n",
    "from os.path import isfile, isdir\n",
    "from tqdm import tqdm\n",
    "import problem_unittests as tests\n",
    "import tarfile\n",
    "\n",
    "cifar10_dataset_folder_path = 'cifar-10-batches-py'\n",
    "\n",
    "# Use Floyd's cifar-10 dataset if present\n",
    "floyd_cifar10_location = '/input/cifar-10/python.tar.gz'\n",
    "if isfile(floyd_cifar10_location):\n",
    "    tar_gz_path = floyd_cifar10_location\n",
    "else:\n",
    "    tar_gz_path = 'cifar-10-python.tar.gz'\n",
    "\n",
    "class DLProgress(tqdm):\n",
    "    last_block = 0\n",
    "\n",
    "    def hook(self, block_num=1, block_size=1, total_size=None):\n",
    "        self.total = total_size\n",
    "        self.update((block_num - self.last_block) * block_size)\n",
    "        self.last_block = block_num\n",
    "\n",
    "if not isfile(tar_gz_path):\n",
    "    with DLProgress(unit='B', unit_scale=True, miniters=1, desc='CIFAR-10 Dataset') as pbar:\n",
    "        urlretrieve(\n",
    "            'https://www.cs.toronto.edu/~kriz/cifar-10-python.tar.gz',\n",
    "            tar_gz_path,\n",
    "            pbar.hook)\n",
    "\n",
    "if not isdir(cifar10_dataset_folder_path):\n",
    "    with tarfile.open(tar_gz_path) as tar:\n",
    "        tar.extractall()\n",
    "        tar.close()\n",
    "\n",
    "\n",
    "tests.test_folder_path(cifar10_dataset_folder_path)"
   ]
  },
  {
   "cell_type": "markdown",
   "metadata": {
    "colab_type": "text",
    "id": "3uu_GrpQTIqs"
   },
   "source": [
    "## 探索数据\n",
    "\n",
    "该数据集分成了几部分／批次（batches），以免你的机器在计算时内存不足。CIFAR-10 数据集包含 5 个部分，名称分别为 `data_batch_1`、`data_batch_2`，以此类推。每个部分都包含以下某个类别的标签和图片：\n",
    "\n",
    "* 飞机\n",
    "* 汽车\n",
    "* 鸟类\n",
    "* 猫\n",
    "* 鹿\n",
    "* 狗\n",
    "* 青蛙\n",
    "* 马\n",
    "* 船只\n",
    "* 卡车\n",
    "\n",
    "了解数据集也是对数据进行预测的必经步骤。你可以通过更改 `batch_id` 和 `sample_id` 探索下面的代码单元。`batch_id` 是数据集一个部分的 ID（1 到 5）。`sample_id` 是该部分中图片和标签对（label pair）的 ID。\n",
    "\n",
    "问问你自己：“可能的标签有哪些？”、“图片数据的值范围是多少？”、“标签是按顺序排列，还是随机排列的？”。思考类似的问题，有助于你预处理数据，并使预测结果更准确。\n"
   ]
  },
  {
   "cell_type": "code",
   "execution_count": 7,
   "metadata": {
    "colab": {
     "autoexec": {
      "startup": false,
      "wait_interval": 0
     },
     "base_uri": "https://localhost:8080/",
     "height": 436,
     "output_extras": [
      {
       "item_id": 1
      },
      {
       "item_id": 2
      }
     ]
    },
    "colab_type": "code",
    "executionInfo": {
     "elapsed": 1091,
     "status": "ok",
     "timestamp": 1522225880776,
     "user": {
      "displayName": "谢俊华",
      "photoUrl": "https://lh3.googleusercontent.com/a/default-user=s128",
      "userId": "105546544206578000210"
     },
     "user_tz": -480
    },
    "id": "e7LcqXhHTIqt",
    "outputId": "5f39a95a-ea10-491b-a59b-041942882856"
   },
   "outputs": [
    {
     "name": "stdout",
     "output_type": "stream",
     "text": [
      "\n",
      "Stats of batch 3:\n",
      "Samples: 10000\n",
      "Label Counts: {0: 994, 1: 1042, 2: 965, 3: 997, 4: 990, 5: 1029, 6: 978, 7: 1015, 8: 961, 9: 1029}\n",
      "First 20 Labels: [8, 5, 0, 6, 9, 2, 8, 3, 6, 2, 7, 4, 6, 9, 0, 0, 7, 3, 7, 2]\n",
      "\n",
      "Example of Image 5:\n",
      "Image - Min Value: 9 Max Value: 255\n",
      "Image - Shape: (32, 32, 3)\n",
      "Label - Label Id: 2 Name: bird\n"
     ]
    },
    {
     "data": {
      "image/png": "[encoded data removed]",
      "text/plain": [
       "<matplotlib.figure.Figure at 0x7f6bb4f6afd0>"
      ]
     },
     "metadata": {
      "image/png": {
       "height": 248,
       "width": 249
      },
      "tags": []
     },
     "output_type": "display_data"
    }
   ],
   "source": [
    "%matplotlib inline\n",
    "%config InlineBackend.figure_format = 'retina'\n",
    "\n",
    "import helper\n",
    "import numpy as np\n",
    "\n",
    "# Explore the dataset\n",
    "batch_id = 3\n",
    "sample_id = 5\n",
    "helper.display_stats(cifar10_dataset_folder_path, batch_id, sample_id)"
   ]
  },
  {
   "cell_type": "markdown",
   "metadata": {
    "colab_type": "text",
    "id": "7iIF-Uh6TIqz"
   },
   "source": [
    "## 实现预处理函数\n",
    "\n",
    "### 标准化\n",
    "\n",
    "在下面的单元中，实现 `normalize` 函数，传入图片数据 `x`，并返回标准化 Numpy 数组。值应该在 0 到 1 的范围内（含 0 和 1）。返回对象应该和 `x` 的形状一样。\n"
   ]
  },
  {
   "cell_type": "code",
   "execution_count": 8,
   "metadata": {
    "colab": {
     "autoexec": {
      "startup": false,
      "wait_interval": 0
     },
     "base_uri": "https://localhost:8080/",
     "height": 35,
     "output_extras": [
      {
       "item_id": 1
      }
     ]
    },
    "colab_type": "code",
    "executionInfo": {
     "elapsed": 1110,
     "status": "ok",
     "timestamp": 1522226014235,
     "user": {
      "displayName": "谢俊华",
      "photoUrl": "https://lh3.googleusercontent.com/a/default-user=s128",
      "userId": "105546544206578000210"
     },
     "user_tz": -480
    },
    "id": "NyuNgSpxTIqz",
    "outputId": "5eb5ee47-9945-4f35-f08e-bd33d88c236b"
   },
   "outputs": [
    {
     "name": "stdout",
     "output_type": "stream",
     "text": [
      "Tests Passed\n"
     ]
    }
   ],
   "source": [
    "def normalize(x):\n",
    "    \"\"\"\n",
    "    Normalize a list of sample image data in the range of 0 to 1\n",
    "    : x: List of image data.  The image shape is (32, 32, 3)\n",
    "    : return: Numpy array of normalize data\n",
    "    \"\"\"\n",
    "#     print(x.shape)\n",
    "#     print(x)\n",
    "    start = 0\n",
    "    end = 1\n",
    "    max_value = 255\n",
    "    min_value = 0\n",
    "    arr1 = []\n",
    "    for i in x:\n",
    "        arr1.append(start + (((i - min_value) * (end - start)) / (max_value - min_value)))\n",
    "        \n",
    "        \n",
    "    # TODO: Implement Function\n",
    "    return np.array(arr1)\n",
    "\n",
    "\n",
    "\"\"\"\n",
    "DON'T MODIFY ANYTHING IN THIS CELL THAT IS BELOW THIS LINE\n",
    "\"\"\"\n",
    "tests.test_normalize(normalize)"
   ]
  },
  {
   "cell_type": "markdown",
   "metadata": {
    "colab_type": "text",
    "id": "sEXstRlOTIq5"
   },
   "source": [
    "### One-hot 编码\n",
    "\n",
    "和之前的代码单元一样，你将为预处理实现一个函数。这次，你将实现 `one_hot_encode` 函数。输入，也就是 `x`，是一个标签列表。实现该函数，以返回为 one_hot 编码的 Numpy 数组的标签列表。标签的可能值为 0 到 9。每次调用 `one_hot_encode` 时，对于每个值，one_hot 编码函数应该返回相同的编码。确保将编码映射保存到该函数外面。\n",
    "\n",
    "提示：不要重复发明轮子。\n"
   ]
  },
  {
   "cell_type": "code",
   "execution_count": 9,
   "metadata": {
    "colab": {
     "autoexec": {
      "startup": false,
      "wait_interval": 0
     },
     "base_uri": "https://localhost:8080/",
     "height": 35,
     "output_extras": [
      {
       "item_id": 1
      }
     ]
    },
    "colab_type": "code",
    "executionInfo": {
     "elapsed": 967,
     "status": "ok",
     "timestamp": 1522226017160,
     "user": {
      "displayName": "谢俊华",
      "photoUrl": "https://lh3.googleusercontent.com/a/default-user=s128",
      "userId": "105546544206578000210"
     },
     "user_tz": -480
    },
    "id": "aOaOJ1JETIq6",
    "outputId": "8d20b6e4-282c-4d83-bdf2-2900edf00221"
   },
   "outputs": [
    {
     "name": "stdout",
     "output_type": "stream",
     "text": [
      "Tests Passed\n"
     ]
    }
   ],
   "source": [
    "# 如果x 是1，对应的one_hot_encode是[0,1,0,0,0,0,0,0,0,0],类似的，如果是2 对应[0,0,1,0,0,0,0,0,0,0]\n",
    "def one_hot_encode(x):\n",
    "    \"\"\"\n",
    "    One hot encode a list of sample labels. Return a one-hot encoded vector for each label.\n",
    "    : x: List of sample Labels\n",
    "    : return: Numpy array of one-hot encoded labels\n",
    "    \"\"\"\n",
    "    # TODO: Implement Function\n",
    "    result = []\n",
    "    for label in x:\n",
    "        temp = np.zeros(10)\n",
    "        temp[label]=1\n",
    "        result.append(temp)\n",
    "    return np.array(result)\n",
    "\n",
    "\n",
    "\"\"\"\n",
    "DON'T MODIFY ANYTHING IN THIS CELL THAT IS BELOW THIS LINE\n",
    "\"\"\"\n",
    "tests.test_one_hot_encode(one_hot_encode)"
   ]
  },
  {
   "cell_type": "markdown",
   "metadata": {
    "colab_type": "text",
    "id": "_0Nj5O1dTIq9"
   },
   "source": [
    "### 随机化数据\n",
    "\n",
    "之前探索数据时，你已经了解到，样本的顺序是随机的。再随机化一次也不会有什么关系，但是对于这个数据集没有必要。\n"
   ]
  },
  {
   "cell_type": "markdown",
   "metadata": {
    "colab_type": "text",
    "id": "kASIM3BuTIq_"
   },
   "source": [
    "## 预处理所有数据并保存\n",
    "\n",
    "运行下方的代码单元，将预处理所有 CIFAR-10 数据，并保存到文件中。下面的代码还使用了 10% 的训练数据，用来验证。\n"
   ]
  },
  {
   "cell_type": "code",
   "execution_count": 0,
   "metadata": {
    "colab": {
     "autoexec": {
      "startup": false,
      "wait_interval": 0
     }
    },
    "colab_type": "code",
    "id": "1euGTw3fTIrA"
   },
   "outputs": [],
   "source": [
    "\"\"\"\n",
    "DON'T MODIFY ANYTHING IN THIS CELL\n",
    "\"\"\"\n",
    "# Preprocess Training, Validation, and Testing Data\n",
    "helper.preprocess_and_save_data(cifar10_dataset_folder_path, normalize, one_hot_encode)"
   ]
  },
  {
   "cell_type": "markdown",
   "metadata": {
    "colab_type": "text",
    "id": "dsUzAOb_TIrD"
   },
   "source": [
    "# 检查点\n",
    "\n",
    "这是你的第一个检查点。如果你什么时候决定再回到该记事本，或需要重新启动该记事本，你可以从这里开始。预处理的数据已保存到本地。\n"
   ]
  },
  {
   "cell_type": "code",
   "execution_count": 0,
   "metadata": {
    "colab": {
     "autoexec": {
      "startup": false,
      "wait_interval": 0
     }
    },
    "colab_type": "code",
    "id": "hO6kl4eATIrE"
   },
   "outputs": [],
   "source": [
    "\"\"\"\n",
    "DON'T MODIFY ANYTHING IN THIS CELL\n",
    "\"\"\"\n",
    "import pickle\n",
    "import problem_unittests as tests\n",
    "import helper\n",
    "\n",
    "# Load the Preprocessed Validation data\n",
    "valid_features, valid_labels = pickle.load(open('preprocess_validation.p', mode='rb'))"
   ]
  },
  {
   "cell_type": "markdown",
   "metadata": {
    "colab_type": "text",
    "id": "T1bQ41HsTIrI"
   },
   "source": [
    "## 构建网络\n",
    "\n",
    "对于该神经网络，你需要将每层都构建为一个函数。你看到的大部分代码都位于函数外面。要更全面地测试你的代码，我们需要你将每层放入一个函数中。这样使我们能够提供更好的反馈，并使用我们的统一测试检测简单的错误，然后再提交项目。\n",
    "\n",
    ">**注意**：如果你觉得每周很难抽出足够的时间学习这门课程，我们为此项目提供了一个小捷径。对于接下来的几个问题，你可以使用 [TensorFlow Layers](https://www.tensorflow.org/api_docs/python/tf/layers) 或 [TensorFlow Layers (contrib)](https://www.tensorflow.org/api_guides/python/contrib.layers) 程序包中的类来构建每个层级，但是“卷积和最大池化层级”部分的层级除外。TF Layers 和 Keras 及 TFLearn 层级类似，因此很容易学会。\n",
    "\n",
    ">但是，如果你想充分利用这门课程，请尝试自己解决所有问题，不使用 TF Layers 程序包中的任何类。你依然可以使用其他程序包中的类，这些类和你在 TF Layers 中的类名称是一样的！例如，你可以使用 TF Neural Network 版本的 `conv2d` 类 [tf.nn.conv2d](https://www.tensorflow.org/api_docs/python/tf/nn/conv2d)，而不是 TF Layers 版本的 `conv2d` 类 [tf.layers.conv2d](https://www.tensorflow.org/api_docs/python/tf/layers/conv2d)。\n",
    "\n",
    "我们开始吧！\n",
    "\n",
    "\n",
    "### 输入\n",
    "\n",
    "神经网络需要读取图片数据、one-hot 编码标签和丢弃保留概率（dropout keep probability）。请实现以下函数：\n",
    "\n",
    "* 实现 `neural_net_image_input`\n",
    " * 返回 [TF Placeholder](https://www.tensorflow.org/api_docs/python/tf/placeholder)\n",
    " * 使用 `image_shape` 设置形状，部分大小设为 `None`\n",
    " * 使用 [TF Placeholder](https://www.tensorflow.org/api_docs/python/tf/placeholder) 中的 TensorFlow `name` 参数对 TensorFlow 占位符 \"x\" 命名\n",
    "* 实现 `neural_net_label_input`\n",
    " * 返回 [TF Placeholder](https://www.tensorflow.org/api_docs/python/tf/placeholder)\n",
    " * 使用 `n_classes` 设置形状，部分大小设为 `None`\n",
    " * 使用 [TF Placeholder](https://www.tensorflow.org/api_docs/python/tf/placeholder) 中的 TensorFlow `name` 参数对 TensorFlow 占位符 \"y\" 命名\n",
    "* 实现 `neural_net_keep_prob_input`\n",
    " * 返回 [TF Placeholder](https://www.tensorflow.org/api_docs/python/tf/placeholder)，用于丢弃保留概率\n",
    " * 使用 [TF Placeholder](https://www.tensorflow.org/api_docs/python/tf/placeholder) 中的 TensorFlow `name` 参数对 TensorFlow 占位符 \"keep_prob\" 命名\n",
    "\n",
    "这些名称将在项目结束时，用于加载保存的模型。\n",
    "\n",
    "注意：TensorFlow 中的 `None` 表示形状可以是动态大小。"
   ]
  },
  {
   "cell_type": "code",
   "execution_count": 12,
   "metadata": {
    "colab": {
     "autoexec": {
      "startup": false,
      "wait_interval": 0
     },
     "base_uri": "https://localhost:8080/",
     "height": 69,
     "output_extras": [
      {
       "item_id": 1
      }
     ]
    },
    "colab_type": "code",
    "executionInfo": {
     "elapsed": 815,
     "status": "ok",
     "timestamp": 1522226185636,
     "user": {
      "displayName": "谢俊华",
      "photoUrl": "https://lh3.googleusercontent.com/a/default-user=s128",
      "userId": "105546544206578000210"
     },
     "user_tz": -480
    },
    "id": "ADSDyx6rTIrJ",
    "outputId": "d8e2b368-e3bf-4a35-c12d-e0220bdba43b"
   },
   "outputs": [
    {
     "name": "stdout",
     "output_type": "stream",
     "text": [
      "Image Input Tests Passed.\n",
      "Label Input Tests Passed.\n",
      "Keep Prob Tests Passed.\n"
     ]
    }
   ],
   "source": [
    "import tensorflow as tf\n",
    "from tensorflow.python import debug as tf_debug\n",
    "from IPython.core.debugger import set_trace\n",
    "\n",
    "def neural_net_image_input(image_shape):\n",
    "    \"\"\"\n",
    "    Return a Tensor for a batch of image input\n",
    "    : image_shape: Shape of the images\n",
    "    : return: Tensor for image input.\n",
    "    \"\"\"\n",
    "    # TODO: Implement Function\n",
    "    shape = [None, image_shape[0], image_shape[1], image_shape[2]]\n",
    "    return tf.placeholder(dtype=tf.float32, shape=shape, name='x')\n",
    "\n",
    "\n",
    "def neural_net_label_input(n_classes):\n",
    "    \"\"\"\n",
    "    Return a Tensor for a batch of label input\n",
    "    : n_classes: Number of classes\n",
    "    : return: Tensor for label input.\n",
    "    \"\"\"\n",
    "    # TODO: Implement Function\n",
    "    shape = [None, n_classes]\n",
    "    return tf.placeholder(dtype=tf.float32, shape=shape, name='y')\n",
    "\n",
    "\n",
    "def neural_net_keep_prob_input():\n",
    "    \"\"\"\n",
    "    Return a Tensor for keep probability\n",
    "    : return: Tensor for keep probability.\n",
    "    \"\"\"\n",
    "    # TODO: Implement Function\n",
    "    return tf.placeholder(dtype=tf.float32, shape=None, name='keep_prob')\n",
    "\n",
    "\n",
    "\"\"\"\n",
    "DON'T MODIFY ANYTHING IN THIS CELL THAT IS BELOW THIS LINE\n",
    "\"\"\"\n",
    "tf.reset_default_graph()\n",
    "tests.test_nn_image_inputs(neural_net_image_input)\n",
    "tests.test_nn_label_inputs(neural_net_label_input)\n",
    "tests.test_nn_keep_prob_inputs(neural_net_keep_prob_input)"
   ]
  },
  {
   "cell_type": "markdown",
   "metadata": {
    "colab_type": "text",
    "id": "OtNfrfOXTIrQ"
   },
   "source": [
    "### 卷积和最大池化层\n",
    "\n",
    "卷积层级适合处理图片。对于此代码单元，你应该实现函数 `conv2d_maxpool` 以便应用卷积然后进行最大池化：\n",
    "\n",
    "* 使用 `conv_ksize`、`conv_num_outputs` 和 `x_tensor` 的形状创建权重（weight）和偏置（bias）。\n",
    "* 使用权重和 `conv_strides` 对 `x_tensor` 应用卷积。\n",
    " * 建议使用我们建议的间距（padding），当然也可以使用任何其他间距。\n",
    "* 添加偏置\n",
    "* 向卷积中添加非线性激活（nonlinear activation）\n",
    "* 使用 `pool_ksize` 和 `pool_strides` 应用最大池化\n",
    " * 建议使用我们建议的间距（padding），当然也可以使用任何其他间距。\n",
    "\n",
    "**注意**：对于**此层**，**请勿使用** [TensorFlow Layers](https://www.tensorflow.org/api_docs/python/tf/layers) 或 [TensorFlow Layers (contrib)](https://www.tensorflow.org/api_guides/python/contrib.layers)，但是仍然可以使用 TensorFlow 的 [Neural Network](https://www.tensorflow.org/api_docs/python/tf/nn) 包。对于所有**其他层**，你依然可以使用快捷方法。\n"
   ]
  },
  {
   "cell_type": "code",
   "execution_count": 0,
   "metadata": {
    "colab": {
     "autoexec": {
      "startup": false,
      "wait_interval": 0
     }
    },
    "colab_type": "code",
    "id": "dpvYkyJPZl5A"
   },
   "outputs": [],
   "source": [
    "def xavier_init(fan_in, fan_out, constant = 1):\n",
    "    print(fan_in)\n",
    "    print( + fan_out)\n",
    "    low = -constant * np.sqrt(6.0 / (fan_in + fan_out))\n",
    "    high = constant * np.sqrt(6.0 / (fan_in + fan_out))\n",
    "    return tf.random_uniform((fan_in, fan_out),\n",
    "                             minval=low, maxval=high, dtype=tf.float32)"
   ]
  },
  {
   "cell_type": "code",
   "execution_count": 147,
   "metadata": {
    "colab": {
     "autoexec": {
      "startup": false,
      "wait_interval": 0
     },
     "base_uri": "https://localhost:8080/",
     "height": 52,
     "output_extras": [
      {
       "item_id": 1
      }
     ]
    },
    "colab_type": "code",
    "executionInfo": {
     "elapsed": 1062,
     "status": "ok",
     "timestamp": 1522243958220,
     "user": {
      "displayName": "谢俊华",
      "photoUrl": "https://lh3.googleusercontent.com/a/default-user=s128",
      "userId": "105546544206578000210"
     },
     "user_tz": -480
    },
    "id": "rrFnxibZTIrR",
    "outputId": "31b16fa0-6659-4a88-aebf-4719139e618c"
   },
   "outputs": [
    {
     "name": "stdout",
     "output_type": "stream",
     "text": [
      "\n",
      "Tests Passed\n"
     ]
    }
   ],
   "source": [
    "def conv2d_maxpool(x_tensor, conv_num_outputs, conv_ksize, conv_strides, pool_ksize, pool_strides):\n",
    "    \"\"\"\n",
    "    Apply convolution then max pooling to x_tensor\n",
    "    :param x_tensor: TensorFlow Tensor 数据输入[None, 32, 32, 3]\n",
    "    :param conv_num_outputs: Number of outputs for the convolutional layer 滤波器个数，下一层神经元个数\n",
    "    :param conv_ksize: kernal size 2-D Tuple for the convolutional layer 滤波器大小\n",
    "    :param conv_strides: Stride 2-D Tuple for convolution 滤波器的移动步幅\n",
    "    :param pool_ksize: kernal size 2-D Tuple for pool 池大小\n",
    "    :param pool_strides: Stride 2-D Tuple for pool 池步幅\n",
    "    : return: A tensor that represents convolution and max pooling of x_tensor\n",
    "    \"\"\"\n",
    "    # TODO: Implement Function\n",
    "    \n",
    "    arr = x_tensor.shape.as_list()\n",
    "    image_shape = [arr[1], arr[2], arr[3]]\n",
    "    image_shape.append(conv_num_outputs)\n",
    "    \n",
    "    stddev = np.sqrt(1.0/(conv_ksize[0]*conv_ksize[1]*conv_num_outputs))\n",
    "    with tf.device('/gpu:0'):\n",
    "      w = tf.Variable(tf.truncated_normal(image_shape, stddev= stddev))             \n",
    "      b = tf.Variable(tf.random_normal([conv_num_outputs]))\n",
    "    \n",
    "    print()\n",
    "    x = tf.nn.conv2d(x_tensor, w, strides=[1, conv_strides[0], conv_strides[1], 1], padding='SAME')\n",
    "    x = tf.nn.bias_add(x, b)\n",
    "    x = tf.nn.relu(x)\n",
    "    \n",
    "    x = tf.nn.max_pool(x, ksize=[1, pool_ksize[0], pool_ksize[1], 1], strides=[1, pool_strides[0], pool_strides[1], 1], padding='SAME')\n",
    "    \n",
    "    return x \n",
    "\n",
    "\"\"\"\n",
    "DON'T MODIFY ANYTHING IN THIS CELL THAT IS BELOW THIS LINE\n",
    "\"\"\"\n",
    "tests.test_con_pool(conv2d_maxpool)"
   ]
  },
  {
   "cell_type": "markdown",
   "metadata": {
    "colab_type": "text",
    "id": "l-m6ka90TIrV"
   },
   "source": [
    "### 扁平化层\n",
    "\n",
    "实现 `flatten` 函数，将 `x_tensor` 的维度从四维张量（4-D tensor）变成二维张量。输出应该是形状（*部分大小（Batch Size）*，*扁平化图片大小（Flattened Image Size）*）。快捷方法：对于此层，你可以使用 [TensorFlow Layers](https://www.tensorflow.org/api_docs/python/tf/layers) 或 [TensorFlow Layers (contrib)](https://www.tensorflow.org/api_guides/python/contrib.layers) 包中的类。如果你想要更大挑战，可以仅使用其他 TensorFlow 程序包。\n"
   ]
  },
  {
   "cell_type": "code",
   "execution_count": 148,
   "metadata": {
    "colab": {
     "autoexec": {
      "startup": false,
      "wait_interval": 0
     },
     "base_uri": "https://localhost:8080/",
     "height": 35,
     "output_extras": [
      {
       "item_id": 1
      }
     ]
    },
    "colab_type": "code",
    "executionInfo": {
     "elapsed": 865,
     "status": "ok",
     "timestamp": 1522243965198,
     "user": {
      "displayName": "谢俊华",
      "photoUrl": "https://lh3.googleusercontent.com/a/default-user=s128",
      "userId": "105546544206578000210"
     },
     "user_tz": -480
    },
    "id": "6WdnSG_qTIrV",
    "outputId": "303a7e93-736e-4585-8cac-26773f2e21c9"
   },
   "outputs": [
    {
     "name": "stdout",
     "output_type": "stream",
     "text": [
      "Tests Passed\n"
     ]
    }
   ],
   "source": [
    "def flatten(x_tensor):\n",
    "    \"\"\"\n",
    "    Flatten x_tensor to (Batch Size, Flattened Image Size)\n",
    "    : x_tensor: A tensor of size (Batch Size, ...), where ... are the image dimensions.\n",
    "    : return: A tensor of size (Batch Size, Flattened Image Size).\n",
    "    \"\"\"\n",
    "    # TODO: Implement Function\n",
    "#     print(x_tensor)\n",
    "#     fc1 = tf.reshape(conv2, [-1, weights['wd1'].get_shape().as_list()[0]])\n",
    "\n",
    "    d = x_tensor.shape.as_list()\n",
    "#     print(d)\n",
    "    d1 = d[1] * d[2] * d[3]\n",
    "#     num = 1000 #全连接层节点数\n",
    "    a = tf.reshape(x_tensor, [-1, d1])\n",
    "#     w1 = tf.Variable(tf.random_normal([d1, 10*30*6]))\n",
    "#     b1 = tf.Variable(tf.random_normal([10*30*6]))\n",
    "#     result = tf.add(tf.matmul(a, w1), b1)\n",
    "    return a\n",
    "\n",
    "\n",
    "\"\"\"\n",
    "DON'T MODIFY ANYTHING IN THIS CELL THAT IS BELOW THIS LINE\n",
    "\"\"\"\n",
    "tests.test_flatten(flatten)"
   ]
  },
  {
   "cell_type": "markdown",
   "metadata": {
    "colab_type": "text",
    "id": "ZqrHlMmbTIrZ"
   },
   "source": [
    "### 全连接层\n",
    "\n",
    "实现 `fully_conn` 函数，以向 `x_tensor` 应用完全连接的层级，形状为（*部分大小（Batch Size）*，*num_outputs*）。快捷方法：对于此层，你可以使用 [TensorFlow Layers](https://www.tensorflow.org/api_docs/python/tf/layers) 或 [TensorFlow Layers (contrib)](https://www.tensorflow.org/api_guides/python/contrib.layers) 包中的类。如果你想要更大挑战，可以仅使用其他 TensorFlow 程序包。"
   ]
  },
  {
   "cell_type": "code",
   "execution_count": 152,
   "metadata": {
    "colab": {
     "autoexec": {
      "startup": false,
      "wait_interval": 0
     },
     "base_uri": "https://localhost:8080/",
     "height": 69,
     "output_extras": [
      {
       "item_id": 1
      }
     ]
    },
    "colab_type": "code",
    "executionInfo": {
     "elapsed": 838,
     "status": "ok",
     "timestamp": 1522244245110,
     "user": {
      "displayName": "谢俊华",
      "photoUrl": "https://lh3.googleusercontent.com/a/default-user=s128",
      "userId": "105546544206578000210"
     },
     "user_tz": -480
    },
    "id": "UN52z6inTIrb",
    "outputId": "733f887f-8d85-4d07-ba16-9557706afe89"
   },
   "outputs": [
    {
     "name": "stdout",
     "output_type": "stream",
     "text": [
      "(?, 128)\n",
      "Tensor(\"Reshape_10:0\", shape=(?, 40), dtype=float32)\n",
      "Tests Passed\n"
     ]
    }
   ],
   "source": [
    "def fully_conn(x_tensor, num_outputs):\n",
    "    \"\"\"\n",
    "    Apply a fully connected layer to x_tensor using weight and bias\n",
    "    : x_tensor: A 2-D tensor where the first dimension is batch size.\n",
    "    : num_outputs: The number of output that the new tensor should be.\n",
    "    : return: A 2-D tensor where the second dimension is num_outputs.\n",
    "    \"\"\"\n",
    "    # TODO: Implement Function\n",
    "    print(x_tensor.shape)\n",
    "    d = x_tensor.shape.as_list()\n",
    "    \n",
    "\n",
    "    d1 = d[1]\n",
    "    a = tf.reshape(x_tensor, [-1, num_outputs])\n",
    "    stddev = np.sqrt(1.0/(d1 * num_outputs))\n",
    "    print(a)\n",
    "    with tf.device('/gpu:0'):\n",
    "      w = tf.Variable(tf.truncated_normal([d1, num_outputs], stddev= stddev))\n",
    "      b = tf.Variable(tf.random_normal([num_outputs]))\n",
    "    return tf.add(tf.matmul(x_tensor, w), b)\n",
    "\n",
    "\n",
    "\"\"\"\n",
    "DON'T MODIFY ANYTHING IN THIS CELL THAT IS BELOW THIS LINE\n",
    "\"\"\"\n",
    "tests.test_fully_conn(fully_conn)"
   ]
  },
  {
   "cell_type": "markdown",
   "metadata": {
    "colab_type": "text",
    "id": "_I6RveOKTIri"
   },
   "source": [
    "### 输出层\n",
    "\n",
    "实现 `output` 函数，向 x_tensor 应用完全连接的层级，形状为（*部分大小（Batch Size）*，*num_outputs*）。快捷方法：对于此层，你可以使用 [TensorFlow Layers](https://www.tensorflow.org/api_docs/python/tf/layers) 或 [TensorFlow Layers (contrib)](https://www.tensorflow.org/api_guides/python/contrib.layers) 包中的类。如果你想要更大挑战，可以仅使用其他 TensorFlow 程序包。\n",
    "\n",
    "**注意**：该层级不应应用 Activation、softmax 或交叉熵（cross entropy）。"
   ]
  },
  {
   "cell_type": "code",
   "execution_count": 153,
   "metadata": {
    "colab": {
     "autoexec": {
      "startup": false,
      "wait_interval": 0
     },
     "base_uri": "https://localhost:8080/",
     "height": 52,
     "output_extras": [
      {
       "item_id": 1
      }
     ]
    },
    "colab_type": "code",
    "executionInfo": {
     "elapsed": 774,
     "status": "ok",
     "timestamp": 1522244309461,
     "user": {
      "displayName": "谢俊华",
      "photoUrl": "https://lh3.googleusercontent.com/a/default-user=s128",
      "userId": "105546544206578000210"
     },
     "user_tz": -480
    },
    "id": "bbXpIatZTIrj",
    "outputId": "68f2012d-6f30-4bdd-b3b5-cb734138ec51"
   },
   "outputs": [
    {
     "name": "stdout",
     "output_type": "stream",
     "text": [
      "Tensor(\"Reshape_11:0\", shape=(?, 40), dtype=float32)\n",
      "Tests Passed\n"
     ]
    }
   ],
   "source": [
    "def output(x_tensor, num_outputs):\n",
    "    \"\"\"\n",
    "    Apply a output layer to x_tensor using weight and bias\n",
    "    : x_tensor: A 2-D tensor where the first dimension is batch size.\n",
    "    : num_outputs: The number of output that the new tensor should be.\n",
    "    : return: A 2-D tensor where the second dimension is num_outputs.\n",
    "    \"\"\"\n",
    "    # TODO: Implement Function\n",
    "    d = x_tensor.shape.as_list()\n",
    "    \n",
    "\n",
    "    d1 = d[1]\n",
    "    a = tf.reshape(x_tensor, [-1, num_outputs])\n",
    "    stddev = np.sqrt(1.0/(d1 * num_outputs))\n",
    "    print(a)\n",
    "    with tf.device('/gpu:0'):\n",
    "      w = tf.Variable(tf.truncated_normal([d1, num_outputs], stddev= stddev))\n",
    "      b = tf.Variable(tf.random_normal([num_outputs]))\n",
    "    return tf.add(tf.matmul(x_tensor, w), b)\n",
    "    \n",
    "\n",
    "\n",
    "\"\"\"\n",
    "DON'T MODIFY ANYTHING IN THIS CELL THAT IS BELOW THIS LINE\n",
    "\"\"\"\n",
    "tests.test_output(output)"
   ]
  },
  {
   "cell_type": "markdown",
   "metadata": {
    "colab_type": "text",
    "id": "eORfN0J4TIrn"
   },
   "source": [
    "### 创建卷积模型\n",
    "\n",
    "实现函数 `conv_net`， 创建卷积神经网络模型。该函数传入一批图片 `x`，并输出对数（logits）。使用你在上方创建的层创建此模型：\n",
    "\n",
    "* 应用 1、2 或 3 个卷积和最大池化层（Convolution and Max Pool layers）\n",
    "* 应用一个扁平层（Flatten Layer）\n",
    "* 应用 1、2 或 3 个完全连接层（Fully Connected Layers）\n",
    "* 应用一个输出层（Output Layer）\n",
    "* 返回输出\n",
    "* 使用 `keep_prob` 向模型中的一个或多个层应用 [TensorFlow 的 Dropout](https://www.tensorflow.org/api_docs/python/tf/nn/dropout)"
   ]
  },
  {
   "cell_type": "code",
   "execution_count": 167,
   "metadata": {
    "colab": {
     "autoexec": {
      "startup": false,
      "wait_interval": 0
     },
     "base_uri": "https://localhost:8080/",
     "height": 239,
     "output_extras": [
      {
       "item_id": 1
      }
     ]
    },
    "colab_type": "code",
    "executionInfo": {
     "elapsed": 1040,
     "status": "ok",
     "timestamp": 1522245320381,
     "user": {
      "displayName": "谢俊华",
      "photoUrl": "https://lh3.googleusercontent.com/a/default-user=s128",
      "userId": "105546544206578000210"
     },
     "user_tz": -480
    },
    "id": "wXtPTOOlTIrp",
    "outputId": "3da97382-40f1-4c66-b166-a06197879e5a"
   },
   "outputs": [
    {
     "name": "stdout",
     "output_type": "stream",
     "text": [
      "\n",
      "\n",
      "Tensor(\"MaxPool_1:0\", shape=(?, 2, 2, 200), dtype=float32)\n",
      "(?, 800)\n",
      "Tensor(\"Reshape_1:0\", shape=(?, 10), dtype=float32)\n",
      "Tensor(\"Reshape_2:0\", shape=(?, 10), dtype=float32)\n",
      "\n",
      "\n",
      "Tensor(\"MaxPool_3:0\", shape=(?, 2, 2, 200), dtype=float32)\n",
      "(?, 800)\n",
      "Tensor(\"Reshape_4:0\", shape=(?, 10), dtype=float32)\n",
      "Tensor(\"Reshape_5:0\", shape=(?, 10), dtype=float32)\n",
      "Neural Network Built!\n"
     ]
    }
   ],
   "source": [
    "def conv_net(x, keep_prob):\n",
    "    \"\"\"\n",
    "    Create a convolutional neural network model\n",
    "    : x: Placeholder tensor that holds image data.\n",
    "    : keep_prob: Placeholder tensor that hold dropout keep probability.\n",
    "    : return: Tensor that represents logits\n",
    "    \"\"\"\n",
    "    # TODO: Apply 1, 2, or 3 Convolution and Max Pool layers\n",
    "    #    Play around with different number of outputs, kernel size and stride\n",
    "    # Function Definition from Above:\n",
    "    #    conv2d_maxpool(x_tensor, conv_num_outputs, conv_ksize, conv_strides, pool_ksize, pool_strides)\n",
    "    conv_num_outputs = 64\n",
    "    conv_ksize = [3, 3]\n",
    "    conv_strides = [2, 2]\n",
    "    pool_ksize = [2, 2]\n",
    "    pool_strides = [2, 2]\n",
    "    result = conv2d_maxpool(x, conv_num_outputs, conv_ksize, conv_strides, pool_ksize, pool_strides)\n",
    "#     set_trace()\n",
    "    result = conv2d_maxpool(result, 200, conv_ksize, conv_strides, pool_ksize, pool_strides)\n",
    "    \n",
    "    # \n",
    "  \n",
    "\n",
    "    # TODO: Apply a Flatten Layer\n",
    "    # Function Definition from Above:\n",
    "    #   flatten(x_tensor)\n",
    "    print(result)\n",
    "    result = flatten(result)\n",
    "    \n",
    "\n",
    "    # TODO: Apply 1, 2, or 3 Fully Connected Layers\n",
    "    #    Play around with different number of outputs\n",
    "    # Function Definition from Above:\n",
    "    #   fully_conn(x_tensor, num_outputs)\n",
    "    result = fully_conn(result, 10)\n",
    "    result = tf.nn.relu(result)\n",
    "    result = tf.nn.dropout(result, keep_prob)\n",
    "#     result = fully_conn(result, 10)\n",
    "    \n",
    "    # TODO: Apply an Output Layer\n",
    "    #    Set this to the number of classes\n",
    "    # Function Definition from Above:\n",
    "    #   output(x_tensor, num_outputs)\n",
    "    \n",
    "    result = output(result, 10)\n",
    "    \n",
    "    \n",
    "    # TODO: return output\n",
    "    return result\n",
    "\n",
    "\n",
    "\"\"\"\n",
    "DON'T MODIFY ANYTHING IN THIS CELL THAT IS BELOW THIS LINE\n",
    "\"\"\"\n",
    "\n",
    "##############################\n",
    "## Build the Neural Network ##\n",
    "##############################\n",
    "\n",
    "# Remove previous weights, bias, inputs, etc..\n",
    "tf.reset_default_graph()\n",
    "\n",
    "# Inputs\n",
    "x = neural_net_image_input((32, 32, 3))\n",
    "y = neural_net_label_input(10)\n",
    "keep_prob = neural_net_keep_prob_input()\n",
    "\n",
    "# Model\n",
    "logits = conv_net(x, keep_prob)\n",
    "\n",
    "# Name logits Tensor, so that is can be loaded from disk after training\n",
    "logits = tf.identity(logits, name='logits')\n",
    "\n",
    "\n",
    "# Loss and Optimizer\n",
    "cost = tf.reduce_mean(tf.nn.softmax_cross_entropy_with_logits(logits=logits, labels=y))\n",
    "optimizer = tf.train.AdamOptimizer().minimize(cost)\n",
    "\n",
    "# Accuracy\n",
    "correct_pred = tf.equal(tf.argmax(logits, 1), tf.argmax(y, 1))\n",
    "accuracy = tf.reduce_mean(tf.cast(correct_pred, tf.float32), name='accuracy')\n",
    "\n",
    "tests.test_conv_net(conv_net)"
   ]
  },
  {
   "cell_type": "markdown",
   "metadata": {
    "colab_type": "text",
    "id": "c4r9kkPQTIrx"
   },
   "source": [
    "## 训练神经网络\n",
    "\n",
    "### 单次优化\n",
    "\n",
    "实现函数 `train_neural_network` 以进行单次优化（single optimization）。该优化应该使用 `optimizer` 优化 `session`，其中 `feed_dict` 具有以下参数：\n",
    "\n",
    "* `x` 表示图片输入\n",
    "* `y` 表示标签\n",
    "* `keep_prob` 表示丢弃的保留率\n",
    "\n",
    "每个部分都会调用该函数，所以 `tf.global_variables_initializer()` 已经被调用。\n",
    "\n",
    "注意：不需要返回任何内容。该函数只是用来优化神经网络。\n"
   ]
  },
  {
   "cell_type": "code",
   "execution_count": 155,
   "metadata": {
    "colab": {
     "autoexec": {
      "startup": false,
      "wait_interval": 0
     },
     "base_uri": "https://localhost:8080/",
     "height": 35,
     "output_extras": [
      {
       "item_id": 1
      }
     ]
    },
    "colab_type": "code",
    "executionInfo": {
     "elapsed": 824,
     "status": "ok",
     "timestamp": 1522244327283,
     "user": {
      "displayName": "谢俊华",
      "photoUrl": "https://lh3.googleusercontent.com/a/default-user=s128",
      "userId": "105546544206578000210"
     },
     "user_tz": -480
    },
    "id": "S1GWiko3TIry",
    "outputId": "cc1fe407-f0a9-4bd5-dcad-458b03b4dfbc"
   },
   "outputs": [
    {
     "name": "stdout",
     "output_type": "stream",
     "text": [
      "Tests Passed\n"
     ]
    }
   ],
   "source": [
    "def train_neural_network(session, optimizer, keep_probability, feature_batch, label_batch):\n",
    "    \"\"\"\n",
    "    Optimize the session on a batch of images and labels\n",
    "    : session: Current TensorFlow session\n",
    "    : optimizer: TensorFlow optimizer function\n",
    "    : keep_probability: keep probability\n",
    "    : feature_batch: Batch of Numpy image data\n",
    "    : label_batch: Batch of Numpy label data\n",
    "    \"\"\"\n",
    "    # TODO: Implement Function\n",
    "    session.run(optimizer, feed_dict={ x: feature_batch, y: label_batch, keep_prob: keep_probability})\n",
    "    pass\n",
    "\n",
    "\n",
    "\"\"\"\n",
    "DON'T MODIFY ANYTHING IN THIS CELL THAT IS BELOW THIS LINE\n",
    "\"\"\"\n",
    "tests.test_train_nn(train_neural_network)"
   ]
  },
  {
   "cell_type": "markdown",
   "metadata": {
    "colab_type": "text",
    "id": "Kzvn65_ZTIr3"
   },
   "source": [
    "### 显示数据\n",
    "\n",
    "实现函数 `print_stats` 以输出损失和验证准确率。使用全局变量 `valid_features` 和 `valid_labels` 计算验证准确率。使用保留率 `1.0` 计算损失和验证准确率（loss and validation accuracy）。\n"
   ]
  },
  {
   "cell_type": "code",
   "execution_count": 0,
   "metadata": {
    "colab": {
     "autoexec": {
      "startup": false,
      "wait_interval": 0
     }
    },
    "colab_type": "code",
    "id": "dCleVFplTIr4"
   },
   "outputs": [],
   "source": [
    "def print_stats(session, feature_batch, label_batch, cost, accuracy):\n",
    "    \"\"\"\n",
    "    Print information about loss and validation accuracy\n",
    "    : session: Current TensorFlow session\n",
    "    : feature_batch: Batch of Numpy image data\n",
    "    : label_batch: Batch of Numpy label data\n",
    "    : cost: TensorFlow cost function\n",
    "    : accuracy: TensorFlow accuracy function\n",
    "    \"\"\"\n",
    "    # TODO: Implement Function\n",
    "    loss = session.run(cost, feed_dict={\n",
    "                x: feature_batch,\n",
    "                y: label_batch,\n",
    "                keep_prob: 1.0})\n",
    "    valid_acc = session.run(accuracy, feed_dict={\n",
    "                x: valid_features,\n",
    "                y: valid_labels,\n",
    "                keep_prob: 1.0})\n",
    "\n",
    "    print('Loss: {:>10.4f} Validation Accuracy: {:.6f}'.format(\n",
    "                loss,\n",
    "                valid_acc))\n",
    "    pass"
   ]
  },
  {
   "cell_type": "markdown",
   "metadata": {
    "colab_type": "text",
    "id": "YGMGqfhATIr6"
   },
   "source": [
    "### 超参数\n",
    "\n",
    "调试以下超参数：\n",
    "* 设置 `epochs` 表示神经网络停止学习或开始过拟合的迭代次数\n",
    "* 设置 `batch_size`，表示机器内存允许的部分最大体积。大部分人设为以下常见内存大小：\n",
    "\n",
    " * 64\n",
    " * 128\n",
    " * 256\n",
    " * ...\n",
    "* 设置 `keep_probability` 表示使用丢弃时保留节点的概率"
   ]
  },
  {
   "cell_type": "code",
   "execution_count": 0,
   "metadata": {
    "colab": {
     "autoexec": {
      "startup": false,
      "wait_interval": 0
     }
    },
    "colab_type": "code",
    "id": "lu3O6pqMTIr7"
   },
   "outputs": [],
   "source": [
    "# TODO: Tune Parameters\n",
    "epochs = 40\n",
    "batch_size = 256\n",
    "keep_probability = 0.75"
   ]
  },
  {
   "cell_type": "markdown",
   "metadata": {
    "colab_type": "text",
    "id": "QdJXqOHTTIr8"
   },
   "source": [
    "### 在单个 CIFAR-10 部分上训练\n",
    "\n",
    "我们先用单个部分，而不是用所有的 CIFAR-10 批次训练神经网络。这样可以节省时间，并对模型进行迭代，以提高准确率。最终验证准确率达到 50% 或以上之后，在下一部分对所有数据运行模型。\n"
   ]
  },
  {
   "cell_type": "code",
   "execution_count": 77,
   "metadata": {
    "colab": {
     "autoexec": {
      "startup": false,
      "wait_interval": 0
     },
     "base_uri": "https://localhost:8080/",
     "height": 35,
     "output_extras": [
      {
       "item_id": 1
      }
     ]
    },
    "colab_type": "code",
    "executionInfo": {
     "elapsed": 1057,
     "status": "ok",
     "timestamp": 1522230528777,
     "user": {
      "displayName": "谢俊华",
      "photoUrl": "https://lh3.googleusercontent.com/a/default-user=s128",
      "userId": "105546544206578000210"
     },
     "user_tz": -480
    },
    "id": "TJBacdFTW7GN",
    "outputId": "363fc0a4-c754-47e7-f9b0-871a8badbcc1"
   },
   "outputs": [
    {
     "name": "stdout",
     "output_type": "stream",
     "text": [
      "Found GPU at: /device:GPU:0\n"
     ]
    }
   ],
   "source": [
    "import tensorflow as tf\n",
    "device_name = tf.test.gpu_device_name()\n",
    "if device_name != '/device:GPU:0':\n",
    "  raise SystemError('GPU device not found')\n",
    "print('Found GPU at: {}'.format(device_name))"
   ]
  },
  {
   "cell_type": "code",
   "execution_count": 168,
   "metadata": {
    "colab": {
     "autoexec": {
      "startup": false,
      "wait_interval": 0
     },
     "base_uri": "https://localhost:8080/",
     "height": 715,
     "output_extras": [
      {
       "item_id": 72
      },
      {
       "item_id": 80
      }
     ]
    },
    "colab_type": "code",
    "executionInfo": {
     "elapsed": 156957,
     "status": "ok",
     "timestamp": 1522245488942,
     "user": {
      "displayName": "谢俊华",
      "photoUrl": "https://lh3.googleusercontent.com/a/default-user=s128",
      "userId": "105546544206578000210"
     },
     "user_tz": -480
    },
    "id": "5IazhNhnTIr8",
    "outputId": "f1aefa5c-6710-4c56-eb39-1f5bc3e2f4e8"
   },
   "outputs": [
    {
     "name": "stdout",
     "output_type": "stream",
     "text": [
      "Checking the Training on a Single Batch...\n",
      "Epoch  1, CIFAR-10 Batch 1:  Loss:     2.3056 Validation Accuracy: 0.112600\n",
      "Epoch  2, CIFAR-10 Batch 1:  Loss:     2.1758 Validation Accuracy: 0.193200\n",
      "Epoch  3, CIFAR-10 Batch 1:  Loss:     2.1317 Validation Accuracy: 0.230400\n",
      "Epoch  4, CIFAR-10 Batch 1:  Loss:     2.0720 Validation Accuracy: 0.262400\n",
      "Epoch  5, CIFAR-10 Batch 1:  Loss:     2.0533 Validation Accuracy: 0.230400\n",
      "Epoch  6, CIFAR-10 Batch 1:  Loss:     1.9515 Validation Accuracy: 0.312800\n",
      "Epoch  7, CIFAR-10 Batch 1:  Loss:     1.9038 Validation Accuracy: 0.310000\n",
      "Epoch  8, CIFAR-10 Batch 1:  Loss:     1.8923 Validation Accuracy: 0.306200\n",
      "Epoch  9, CIFAR-10 Batch 1:  Loss:     1.8073 Validation Accuracy: 0.327800\n",
      "Epoch 10, CIFAR-10 Batch 1:  Loss:     1.7389 Validation Accuracy: 0.336600\n",
      "Epoch 11, CIFAR-10 Batch 1:  Loss:     1.6583 Validation Accuracy: 0.371600\n",
      "Epoch 12, CIFAR-10 Batch 1:  Loss:     1.6197 Validation Accuracy: 0.367000\n",
      "Epoch 13, CIFAR-10 Batch 1:  Loss:     1.5811 Validation Accuracy: 0.355000\n",
      "Epoch 14, CIFAR-10 Batch 1:  Loss:     1.5006 Validation Accuracy: 0.363200\n",
      "Epoch 15, CIFAR-10 Batch 1:  Loss:     1.4690 Validation Accuracy: 0.368200\n",
      "Epoch 16, CIFAR-10 Batch 1:  Loss:     1.3775 Validation Accuracy: 0.392000\n",
      "Epoch 17, CIFAR-10 Batch 1:  Loss:     1.3016 Validation Accuracy: 0.388000\n",
      "Epoch 18, CIFAR-10 Batch 1:  Loss:     1.2273 Validation Accuracy: 0.414200\n",
      "Epoch 19, CIFAR-10 Batch 1:  Loss:     1.1960 Validation Accuracy: 0.400000\n",
      "Epoch 20, CIFAR-10 Batch 1:  Loss:     1.1653 Validation Accuracy: 0.411000\n",
      "Epoch 21, CIFAR-10 Batch 1:  Loss:     1.1252 Validation Accuracy: 0.409200\n",
      "Epoch 22, CIFAR-10 Batch 1:  Loss:     1.1486 Validation Accuracy: 0.399200\n",
      "Epoch 23, CIFAR-10 Batch 1:  Loss:     1.1241 Validation Accuracy: 0.412600\n",
      "Epoch 24, CIFAR-10 Batch 1:  Loss:     1.0433 Validation Accuracy: 0.416800\n",
      "Epoch 25, CIFAR-10 Batch 1:  Loss:     1.0550 Validation Accuracy: 0.372200\n",
      "Epoch 26, CIFAR-10 Batch 1:  Loss:     1.0152 Validation Accuracy: 0.399200\n",
      "Epoch 27, CIFAR-10 Batch 1:  Loss:     0.9563 Validation Accuracy: 0.419000\n",
      "Epoch 28, CIFAR-10 Batch 1:  Loss:     0.9087 Validation Accuracy: 0.437200\n",
      "Epoch 29, CIFAR-10 Batch 1:  Loss:     0.8859 Validation Accuracy: 0.446000\n",
      "Epoch 30, CIFAR-10 Batch 1:  Loss:     0.8401 Validation Accuracy: 0.447600\n",
      "Epoch 31, CIFAR-10 Batch 1:  Loss:     0.8072 Validation Accuracy: 0.433400\n",
      "Epoch 32, CIFAR-10 Batch 1:  Loss:     0.8329 Validation Accuracy: 0.440200\n",
      "Epoch 33, CIFAR-10 Batch 1:  Loss:     0.8249 Validation Accuracy: 0.439400\n",
      "Epoch 34, CIFAR-10 Batch 1:  Loss:     0.7862 Validation Accuracy: 0.412200\n",
      "Epoch 35, CIFAR-10 Batch 1:  Loss:     0.6747 Validation Accuracy: 0.427600\n",
      "Epoch 36, CIFAR-10 Batch 1:  Loss:     0.7649 Validation Accuracy: 0.401600\n",
      "Epoch 37, CIFAR-10 Batch 1:  Loss:     0.7657 Validation Accuracy: 0.423800\n",
      "Epoch 38, CIFAR-10 Batch 1:  Loss:     0.7180 Validation Accuracy: 0.431800\n",
      "Epoch 39, CIFAR-10 Batch 1:  Loss:     0.6578 Validation Accuracy: 0.445800\n",
      "Epoch 40, CIFAR-10 Batch 1:  Loss:     0.6285 Validation Accuracy: 0.453000\n"
     ]
    }
   ],
   "source": [
    "\"\"\"\n",
    "DON'T MODIFY ANYTHING IN THIS CELL\n",
    "\"\"\"\n",
    "print('Checking the Training on a Single Batch...')\n",
    "# tf.reset_default_graph()\n",
    "config = tf.ConfigProto(log_device_placement=True)\n",
    "\n",
    "config.log_device_placement=True\n",
    "with tf.Session(config=config) as sess:\n",
    "    # Initializing the variables\n",
    "    sess.run(tf.global_variables_initializer())\n",
    "    \n",
    "    # Training cycle\n",
    "    for epoch in range(epochs):\n",
    "        batch_i = 1\n",
    "        for batch_features, batch_labels in helper.load_preprocess_training_batch(batch_i, batch_size):\n",
    "            train_neural_network(sess, optimizer, keep_probability, batch_features, batch_labels)\n",
    "        print('Epoch {:>2}, CIFAR-10 Batch {}:  '.format(epoch + 1, batch_i), end='')\n",
    "        print_stats(sess, batch_features, batch_labels, cost, accuracy)"
   ]
  },
  {
   "cell_type": "markdown",
   "metadata": {
    "colab_type": "text",
    "id": "KuVqLxOkTIr-"
   },
   "source": [
    "### 完全训练模型\n",
    "\n",
    "现在，单个 CIFAR-10 部分的准确率已经不错了，试试所有五个部分吧。"
   ]
  },
  {
   "cell_type": "code",
   "execution_count": 170,
   "metadata": {
    "colab": {
     "autoexec": {
      "startup": false,
      "wait_interval": 0
     },
     "base_uri": "https://localhost:8080/",
     "height": 3435,
     "output_extras": [
      {
       "item_id": 69
      },
      {
       "item_id": 135
      },
      {
       "item_id": 207
      },
      {
       "item_id": 279
      },
      {
       "item_id": 343
      },
      {
       "item_id": 381
      }
     ]
    },
    "colab_type": "code",
    "executionInfo": {
     "elapsed": 779024,
     "status": "ok",
     "timestamp": 1522246484807,
     "user": {
      "displayName": "谢俊华",
      "photoUrl": "https://lh3.googleusercontent.com/a/default-user=s128",
      "userId": "105546544206578000210"
     },
     "user_tz": -480
    },
    "id": "Z8FGQLcwTIr_",
    "outputId": "d5856c2e-356c-410c-bce4-a88d68b39109"
   },
   "outputs": [
    {
     "name": "stdout",
     "output_type": "stream",
     "text": [
      "Training...\n",
      "Epoch  1, CIFAR-10 Batch 1:  Loss:     2.2902 Validation Accuracy: 0.160800\n",
      "Epoch  1, CIFAR-10 Batch 2:  Loss:     2.2659 Validation Accuracy: 0.244800\n",
      "Epoch  1, CIFAR-10 Batch 3:  Loss:     1.9751 Validation Accuracy: 0.267400\n",
      "Epoch  1, CIFAR-10 Batch 4:  Loss:     1.8362 Validation Accuracy: 0.300200\n",
      "Epoch  1, CIFAR-10 Batch 5:  Loss:     1.8897 Validation Accuracy: 0.316400\n",
      "Epoch  2, CIFAR-10 Batch 1:  Loss:     1.9504 Validation Accuracy: 0.322800\n",
      "Epoch  2, CIFAR-10 Batch 2:  Loss:     1.9215 Validation Accuracy: 0.342600\n",
      "Epoch  2, CIFAR-10 Batch 3:  Loss:     1.5974 Validation Accuracy: 0.376600\n",
      "Epoch  2, CIFAR-10 Batch 4:  Loss:     1.6390 Validation Accuracy: 0.372600\n",
      "Epoch  2, CIFAR-10 Batch 5:  Loss:     1.6932 Validation Accuracy: 0.374000\n",
      "Epoch  3, CIFAR-10 Batch 1:  Loss:     1.8536 Validation Accuracy: 0.377800\n",
      "Epoch  3, CIFAR-10 Batch 2:  Loss:     1.6837 Validation Accuracy: 0.396400\n",
      "Epoch  3, CIFAR-10 Batch 3:  Loss:     1.3797 Validation Accuracy: 0.413000\n",
      "Epoch  3, CIFAR-10 Batch 4:  Loss:     1.5258 Validation Accuracy: 0.385800\n",
      "Epoch  3, CIFAR-10 Batch 5:  Loss:     1.5880 Validation Accuracy: 0.409200\n",
      "Epoch  4, CIFAR-10 Batch 1:  Loss:     1.6765 Validation Accuracy: 0.388800\n",
      "Epoch  4, CIFAR-10 Batch 2:  Loss:     1.6468 Validation Accuracy: 0.400600\n",
      "Epoch  4, CIFAR-10 Batch 3:  Loss:     1.3174 Validation Accuracy: 0.425000\n",
      "Epoch  4, CIFAR-10 Batch 4:  Loss:     1.4529 Validation Accuracy: 0.439200\n",
      "Epoch  4, CIFAR-10 Batch 5:  Loss:     1.4800 Validation Accuracy: 0.440800\n",
      "Epoch  5, CIFAR-10 Batch 1:  Loss:     1.5614 Validation Accuracy: 0.440600\n",
      "Epoch  5, CIFAR-10 Batch 2:  Loss:     1.4981 Validation Accuracy: 0.420400\n",
      "Epoch  5, CIFAR-10 Batch 3:  Loss:     1.1921 Validation Accuracy: 0.439800\n",
      "Epoch  5, CIFAR-10 Batch 4:  Loss:     1.3471 Validation Accuracy: 0.430200\n",
      "Epoch  5, CIFAR-10 Batch 5:  Loss:     1.3732 Validation Accuracy: 0.428800\n",
      "Epoch  6, CIFAR-10 Batch 1:  Loss:     1.4720 Validation Accuracy: 0.461200\n",
      "Epoch  6, CIFAR-10 Batch 2:  Loss:     1.3969 Validation Accuracy: 0.441000\n",
      "Epoch  6, CIFAR-10 Batch 3:  Loss:     1.1418 Validation Accuracy: 0.461400\n",
      "Epoch  6, CIFAR-10 Batch 4:  Loss:     1.2608 Validation Accuracy: 0.474600\n",
      "Epoch  6, CIFAR-10 Batch 5:  Loss:     1.2848 Validation Accuracy: 0.473200\n",
      "Epoch  7, CIFAR-10 Batch 1:  Loss:     1.2950 Validation Accuracy: 0.478400\n",
      "Epoch  7, CIFAR-10 Batch 2:  Loss:     1.3123 Validation Accuracy: 0.453800\n",
      "Epoch  7, CIFAR-10 Batch 3:  Loss:     1.0705 Validation Accuracy: 0.480000\n",
      "Epoch  7, CIFAR-10 Batch 4:  Loss:     1.1816 Validation Accuracy: 0.472600\n",
      "Epoch  7, CIFAR-10 Batch 5:  Loss:     1.2268 Validation Accuracy: 0.482400\n",
      "Epoch  8, CIFAR-10 Batch 1:  Loss:     1.2709 Validation Accuracy: 0.467200\n",
      "Epoch  8, CIFAR-10 Batch 2:  Loss:     1.1598 Validation Accuracy: 0.485600\n",
      "Epoch  8, CIFAR-10 Batch 3:  Loss:     1.0225 Validation Accuracy: 0.486800\n",
      "Epoch  8, CIFAR-10 Batch 4:  Loss:     1.0850 Validation Accuracy: 0.487800\n",
      "Epoch  8, CIFAR-10 Batch 5:  Loss:     1.1848 Validation Accuracy: 0.478000\n",
      "Epoch  9, CIFAR-10 Batch 1:  Loss:     1.1626 Validation Accuracy: 0.480600\n",
      "Epoch  9, CIFAR-10 Batch 2:  Loss:     1.1346 Validation Accuracy: 0.490000\n",
      "Epoch  9, CIFAR-10 Batch 3:  Loss:     0.9612 Validation Accuracy: 0.503600\n",
      "Epoch  9, CIFAR-10 Batch 4:  Loss:     1.0301 Validation Accuracy: 0.492200\n",
      "Epoch  9, CIFAR-10 Batch 5:  Loss:     1.0883 Validation Accuracy: 0.496400\n",
      "Epoch 10, CIFAR-10 Batch 1:  Loss:     1.1138 Validation Accuracy: 0.497600\n",
      "Epoch 10, CIFAR-10 Batch 2:  Loss:     1.0337 Validation Accuracy: 0.493800\n",
      "Epoch 10, CIFAR-10 Batch 3:  Loss:     0.8970 Validation Accuracy: 0.502200\n",
      "Epoch 10, CIFAR-10 Batch 4:  Loss:     0.9681 Validation Accuracy: 0.498800\n",
      "Epoch 10, CIFAR-10 Batch 5:  Loss:     0.9965 Validation Accuracy: 0.494600\n",
      "Epoch 11, CIFAR-10 Batch 1:  Loss:     1.0206 Validation Accuracy: 0.490600\n",
      "Epoch 11, CIFAR-10 Batch 2:  Loss:     0.9971 Validation Accuracy: 0.487400\n",
      "Epoch 11, CIFAR-10 Batch 3:  Loss:     0.8503 Validation Accuracy: 0.512200\n",
      "Epoch 11, CIFAR-10 Batch 4:  Loss:     0.8964 Validation Accuracy: 0.509200\n",
      "Epoch 11, CIFAR-10 Batch 5:  Loss:     0.9798 Validation Accuracy: 0.495000\n",
      "Epoch 12, CIFAR-10 Batch 1:  Loss:     0.9835 Validation Accuracy: 0.491600\n",
      "Epoch 12, CIFAR-10 Batch 2:  Loss:     0.8663 Validation Accuracy: 0.504000\n",
      "Epoch 12, CIFAR-10 Batch 3:  Loss:     0.7426 Validation Accuracy: 0.510200\n",
      "Epoch 12, CIFAR-10 Batch 4:  Loss:     0.8376 Validation Accuracy: 0.502400\n",
      "Epoch 12, CIFAR-10 Batch 5:  Loss:     0.9206 Validation Accuracy: 0.497400\n",
      "Epoch 13, CIFAR-10 Batch 1:  Loss:     0.9340 Validation Accuracy: 0.489400\n",
      "Epoch 13, CIFAR-10 Batch 2:  Loss:     0.8489 Validation Accuracy: 0.509000\n",
      "Epoch 13, CIFAR-10 Batch 3:  Loss:     0.6976 Validation Accuracy: 0.515000\n",
      "Epoch 13, CIFAR-10 Batch 4:  Loss:     0.8266 Validation Accuracy: 0.513600\n",
      "Epoch 13, CIFAR-10 Batch 5:  Loss:     0.8867 Validation Accuracy: 0.518000\n",
      "Epoch 14, CIFAR-10 Batch 1:  Loss:     0.8892 Validation Accuracy: 0.504200\n",
      "Epoch 14, CIFAR-10 Batch 2:  Loss:     0.7735 Validation Accuracy: 0.515000\n",
      "Epoch 14, CIFAR-10 Batch 3:  Loss:     0.6546 Validation Accuracy: 0.525000\n",
      "Epoch 14, CIFAR-10 Batch 4:  Loss:     0.8356 Validation Accuracy: 0.507400\n",
      "Epoch 14, CIFAR-10 Batch 5:  Loss:     0.8234 Validation Accuracy: 0.509400\n",
      "Epoch 15, CIFAR-10 Batch 1:  Loss:     0.7926 Validation Accuracy: 0.507000\n",
      "Epoch 15, CIFAR-10 Batch 2:  Loss:     0.7673 Validation Accuracy: 0.515000\n",
      "Epoch 15, CIFAR-10 Batch 3:  Loss:     0.6050 Validation Accuracy: 0.514400\n",
      "Epoch 15, CIFAR-10 Batch 4:  Loss:     0.7189 Validation Accuracy: 0.526400\n",
      "Epoch 15, CIFAR-10 Batch 5:  Loss:     0.7915 Validation Accuracy: 0.514600\n",
      "Epoch 16, CIFAR-10 Batch 1:  Loss:     0.7775 Validation Accuracy: 0.517200\n",
      "Epoch 16, CIFAR-10 Batch 2:  Loss:     0.6296 Validation Accuracy: 0.521000\n",
      "Epoch 16, CIFAR-10 Batch 3:  Loss:     0.6271 Validation Accuracy: 0.515800\n",
      "Epoch 16, CIFAR-10 Batch 4:  Loss:     0.7152 Validation Accuracy: 0.500600\n",
      "Epoch 16, CIFAR-10 Batch 5:  Loss:     0.7848 Validation Accuracy: 0.506600\n",
      "Epoch 17, CIFAR-10 Batch 1:  Loss:     0.7037 Validation Accuracy: 0.516800\n",
      "Epoch 17, CIFAR-10 Batch 2:  Loss:     0.6300 Validation Accuracy: 0.514400\n",
      "Epoch 17, CIFAR-10 Batch 3:  Loss:     0.5623 Validation Accuracy: 0.527200\n",
      "Epoch 17, CIFAR-10 Batch 4:  Loss:     0.6345 Validation Accuracy: 0.524400\n",
      "Epoch 17, CIFAR-10 Batch 5:  Loss:     0.7075 Validation Accuracy: 0.501800\n",
      "Epoch 18, CIFAR-10 Batch 1:  Loss:     0.6382 Validation Accuracy: 0.510600\n",
      "Epoch 18, CIFAR-10 Batch 2:  Loss:     0.6087 Validation Accuracy: 0.532000\n",
      "Epoch 18, CIFAR-10 Batch 3:  Loss:     0.4948 Validation Accuracy: 0.525600\n",
      "Epoch 18, CIFAR-10 Batch 4:  Loss:     0.5952 Validation Accuracy: 0.517800\n",
      "Epoch 18, CIFAR-10 Batch 5:  Loss:     0.6512 Validation Accuracy: 0.512800\n",
      "Epoch 19, CIFAR-10 Batch 1:  Loss:     0.6384 Validation Accuracy: 0.505000\n",
      "Epoch 19, CIFAR-10 Batch 2:  Loss:     0.5680 Validation Accuracy: 0.529400\n",
      "Epoch 19, CIFAR-10 Batch 3:  Loss:     0.4938 Validation Accuracy: 0.522400\n",
      "Epoch 19, CIFAR-10 Batch 4:  Loss:     0.5745 Validation Accuracy: 0.519000\n",
      "Epoch 19, CIFAR-10 Batch 5:  Loss:     0.6122 Validation Accuracy: 0.512200\n",
      "Epoch 20, CIFAR-10 Batch 1:  Loss:     0.5732 Validation Accuracy: 0.522000\n",
      "Epoch 20, CIFAR-10 Batch 2:  Loss:     0.5962 Validation Accuracy: 0.511600\n",
      "Epoch 20, CIFAR-10 Batch 3:  Loss:     0.4689 Validation Accuracy: 0.530200\n",
      "Epoch 20, CIFAR-10 Batch 4:  Loss:     0.5836 Validation Accuracy: 0.513000\n",
      "Epoch 20, CIFAR-10 Batch 5:  Loss:     0.5835 Validation Accuracy: 0.497400\n",
      "Epoch 21, CIFAR-10 Batch 1:  Loss:     0.5807 Validation Accuracy: 0.529000\n",
      "Epoch 21, CIFAR-10 Batch 2:  Loss:     0.5320 Validation Accuracy: 0.520800\n",
      "Epoch 21, CIFAR-10 Batch 3:  Loss:     0.4723 Validation Accuracy: 0.518800\n",
      "Epoch 21, CIFAR-10 Batch 4:  Loss:     0.5566 Validation Accuracy: 0.503800\n",
      "Epoch 21, CIFAR-10 Batch 5:  Loss:     0.5489 Validation Accuracy: 0.495600\n",
      "Epoch 22, CIFAR-10 Batch 1:  Loss:     0.5536 Validation Accuracy: 0.520000\n",
      "Epoch 22, CIFAR-10 Batch 2:  Loss:     0.5258 Validation Accuracy: 0.517400\n",
      "Epoch 22, CIFAR-10 Batch 3:  Loss:     0.4365 Validation Accuracy: 0.511600\n",
      "Epoch 22, CIFAR-10 Batch 4:  Loss:     0.5140 Validation Accuracy: 0.519400\n",
      "Epoch 22, CIFAR-10 Batch 5:  Loss:     0.5531 Validation Accuracy: 0.515600\n",
      "Epoch 23, CIFAR-10 Batch 1:  Loss:     0.5240 Validation Accuracy: 0.515400\n",
      "Epoch 23, CIFAR-10 Batch 2:  Loss:     0.4662 Validation Accuracy: 0.524800\n",
      "Epoch 23, CIFAR-10 Batch 3:  Loss:     0.4320 Validation Accuracy: 0.508200\n",
      "Epoch 23, CIFAR-10 Batch 4:  Loss:     0.4756 Validation Accuracy: 0.520200\n",
      "Epoch 23, CIFAR-10 Batch 5:  Loss:     0.4925 Validation Accuracy: 0.503400\n",
      "Epoch 24, CIFAR-10 Batch 1:  Loss:     0.5363 Validation Accuracy: 0.520200\n",
      "Epoch 24, CIFAR-10 Batch 2:  Loss:     0.4765 Validation Accuracy: 0.524200\n",
      "Epoch 24, CIFAR-10 Batch 3:  Loss:     0.4275 Validation Accuracy: 0.504000\n",
      "Epoch 24, CIFAR-10 Batch 4:  Loss:     0.5078 Validation Accuracy: 0.521400\n",
      "Epoch 24, CIFAR-10 Batch 5:  Loss:     0.4960 Validation Accuracy: 0.512800\n",
      "Epoch 25, CIFAR-10 Batch 1:  Loss:     0.5071 Validation Accuracy: 0.523600\n",
      "Epoch 25, CIFAR-10 Batch 2:  Loss:     0.4476 Validation Accuracy: 0.527400\n",
      "Epoch 25, CIFAR-10 Batch 3:  Loss:     0.4012 Validation Accuracy: 0.524600\n",
      "Epoch 25, CIFAR-10 Batch 4:  Loss:     0.4439 Validation Accuracy: 0.525800\n",
      "Epoch 25, CIFAR-10 Batch 5:  Loss:     0.4615 Validation Accuracy: 0.521000\n",
      "Epoch 26, CIFAR-10 Batch 1:  Loss:     0.5213 Validation Accuracy: 0.514800\n",
      "Epoch 26, CIFAR-10 Batch 2:  Loss:     0.4297 Validation Accuracy: 0.519800\n",
      "Epoch 26, CIFAR-10 Batch 3:  Loss:     0.4079 Validation Accuracy: 0.507800\n",
      "Epoch 26, CIFAR-10 Batch 4:  Loss:     0.4455 Validation Accuracy: 0.529200\n",
      "Epoch 26, CIFAR-10 Batch 5:  Loss:     0.4574 Validation Accuracy: 0.531800\n",
      "Epoch 27, CIFAR-10 Batch 1:  Loss:     0.4966 Validation Accuracy: 0.517600\n",
      "Epoch 27, CIFAR-10 Batch 2:  Loss:     0.3925 Validation Accuracy: 0.516000\n",
      "Epoch 27, CIFAR-10 Batch 3:  Loss:     0.3900 Validation Accuracy: 0.526800\n",
      "Epoch 27, CIFAR-10 Batch 4:  Loss:     0.4554 Validation Accuracy: 0.517600\n",
      "Epoch 27, CIFAR-10 Batch 5:  Loss:     0.4660 Validation Accuracy: 0.532000\n",
      "Epoch 28, CIFAR-10 Batch 1:  Loss:     0.5228 Validation Accuracy: 0.529400\n",
      "Epoch 28, CIFAR-10 Batch 2:  Loss:     0.3933 Validation Accuracy: 0.525800\n",
      "Epoch 28, CIFAR-10 Batch 3:  Loss:     0.3852 Validation Accuracy: 0.516000\n",
      "Epoch 28, CIFAR-10 Batch 4:  Loss:     0.4349 Validation Accuracy: 0.525200\n",
      "Epoch 28, CIFAR-10 Batch 5:  Loss:     0.5249 Validation Accuracy: 0.531000\n",
      "Epoch 29, CIFAR-10 Batch 1:  Loss:     0.4789 Validation Accuracy: 0.519600\n",
      "Epoch 29, CIFAR-10 Batch 2:  Loss:     0.3921 Validation Accuracy: 0.524400\n",
      "Epoch 29, CIFAR-10 Batch 3:  Loss:     0.3936 Validation Accuracy: 0.514800\n"
     ]
    },
    {
     "name": "stdout",
     "output_type": "stream",
     "text": [
      "Epoch 29, CIFAR-10 Batch 4:  Loss:     0.3823 Validation Accuracy: 0.516000\n",
      "Epoch 29, CIFAR-10 Batch 5:  Loss:     0.5024 Validation Accuracy: 0.521000\n",
      "Epoch 30, CIFAR-10 Batch 1:  Loss:     0.4971 Validation Accuracy: 0.527600\n",
      "Epoch 30, CIFAR-10 Batch 2:  Loss:     0.3412 Validation Accuracy: 0.522400\n",
      "Epoch 30, CIFAR-10 Batch 3:  Loss:     0.3481 Validation Accuracy: 0.519600\n",
      "Epoch 30, CIFAR-10 Batch 4:  Loss:     0.3932 Validation Accuracy: 0.506200\n",
      "Epoch 30, CIFAR-10 Batch 5:  Loss:     0.4956 Validation Accuracy: 0.514200\n",
      "Epoch 31, CIFAR-10 Batch 1:  Loss:     0.4479 Validation Accuracy: 0.523200\n",
      "Epoch 31, CIFAR-10 Batch 2:  Loss:     0.3420 Validation Accuracy: 0.510800\n",
      "Epoch 31, CIFAR-10 Batch 3:  Loss:     0.3497 Validation Accuracy: 0.526000\n",
      "Epoch 31, CIFAR-10 Batch 4:  Loss:     0.3908 Validation Accuracy: 0.500600\n",
      "Epoch 31, CIFAR-10 Batch 5:  Loss:     0.4927 Validation Accuracy: 0.505800\n",
      "Epoch 32, CIFAR-10 Batch 1:  Loss:     0.4433 Validation Accuracy: 0.522600\n",
      "Epoch 32, CIFAR-10 Batch 2:  Loss:     0.3369 Validation Accuracy: 0.515600\n",
      "Epoch 32, CIFAR-10 Batch 3:  Loss:     0.3504 Validation Accuracy: 0.516600\n",
      "Epoch 32, CIFAR-10 Batch 4:  Loss:     0.4164 Validation Accuracy: 0.511600\n",
      "Epoch 32, CIFAR-10 Batch 5:  Loss:     0.4232 Validation Accuracy: 0.512800\n",
      "Epoch 33, CIFAR-10 Batch 1:  Loss:     0.4303 Validation Accuracy: 0.519000\n",
      "Epoch 33, CIFAR-10 Batch 2:  Loss:     0.3892 Validation Accuracy: 0.499800\n",
      "Epoch 33, CIFAR-10 Batch 3:  Loss:     0.3198 Validation Accuracy: 0.524800\n",
      "Epoch 33, CIFAR-10 Batch 4:  Loss:     0.3776 Validation Accuracy: 0.517000\n",
      "Epoch 33, CIFAR-10 Batch 5:  Loss:     0.4247 Validation Accuracy: 0.517400\n",
      "Epoch 34, CIFAR-10 Batch 1:  Loss:     0.4288 Validation Accuracy: 0.535200\n",
      "Epoch 34, CIFAR-10 Batch 2:  Loss:     0.3760 Validation Accuracy: 0.501000\n",
      "Epoch 34, CIFAR-10 Batch 3:  Loss:     0.3205 Validation Accuracy: 0.525200\n",
      "Epoch 34, CIFAR-10 Batch 4:  Loss:     0.3704 Validation Accuracy: 0.511600\n",
      "Epoch 34, CIFAR-10 Batch 5:  Loss:     0.3999 Validation Accuracy: 0.524600\n",
      "Epoch 35, CIFAR-10 Batch 1:  Loss:     0.4279 Validation Accuracy: 0.526600\n",
      "Epoch 35, CIFAR-10 Batch 2:  Loss:     0.3713 Validation Accuracy: 0.505600\n",
      "Epoch 35, CIFAR-10 Batch 3:  Loss:     0.3190 Validation Accuracy: 0.520000\n",
      "Epoch 35, CIFAR-10 Batch 4:  Loss:     0.3764 Validation Accuracy: 0.504800\n",
      "Epoch 35, CIFAR-10 Batch 5:  Loss:     0.4342 Validation Accuracy: 0.518400\n",
      "Epoch 36, CIFAR-10 Batch 1:  Loss:     0.4420 Validation Accuracy: 0.522200\n",
      "Epoch 36, CIFAR-10 Batch 2:  Loss:     0.3689 Validation Accuracy: 0.503200\n",
      "Epoch 36, CIFAR-10 Batch 3:  Loss:     0.3071 Validation Accuracy: 0.529000\n",
      "Epoch 36, CIFAR-10 Batch 4:  Loss:     0.3837 Validation Accuracy: 0.487000\n",
      "Epoch 36, CIFAR-10 Batch 5:  Loss:     0.4044 Validation Accuracy: 0.518000\n",
      "Epoch 37, CIFAR-10 Batch 1:  Loss:     0.3978 Validation Accuracy: 0.525200\n",
      "Epoch 37, CIFAR-10 Batch 2:  Loss:     0.3411 Validation Accuracy: 0.515800\n",
      "Epoch 37, CIFAR-10 Batch 3:  Loss:     0.2815 Validation Accuracy: 0.532200\n",
      "Epoch 37, CIFAR-10 Batch 4:  Loss:     0.3522 Validation Accuracy: 0.480200\n",
      "Epoch 37, CIFAR-10 Batch 5:  Loss:     0.3697 Validation Accuracy: 0.529800\n",
      "Epoch 38, CIFAR-10 Batch 1:  Loss:     0.4145 Validation Accuracy: 0.513400\n",
      "Epoch 38, CIFAR-10 Batch 2:  Loss:     0.3365 Validation Accuracy: 0.518000\n",
      "Epoch 38, CIFAR-10 Batch 3:  Loss:     0.2991 Validation Accuracy: 0.537800\n",
      "Epoch 38, CIFAR-10 Batch 4:  Loss:     0.2954 Validation Accuracy: 0.503000\n",
      "Epoch 38, CIFAR-10 Batch 5:  Loss:     0.3786 Validation Accuracy: 0.524600\n",
      "Epoch 39, CIFAR-10 Batch 1:  Loss:     0.3847 Validation Accuracy: 0.528000\n",
      "Epoch 39, CIFAR-10 Batch 2:  Loss:     0.3004 Validation Accuracy: 0.528600\n",
      "Epoch 39, CIFAR-10 Batch 3:  Loss:     0.3221 Validation Accuracy: 0.517400\n",
      "Epoch 39, CIFAR-10 Batch 4:  Loss:     0.3552 Validation Accuracy: 0.514800\n",
      "Epoch 39, CIFAR-10 Batch 5:  Loss:     0.3077 Validation Accuracy: 0.527400\n",
      "Epoch 40, CIFAR-10 Batch 1:  Loss:     0.3669 Validation Accuracy: 0.522600\n",
      "Epoch 40, CIFAR-10 Batch 2:  Loss:     0.3031 Validation Accuracy: 0.533800\n",
      "Epoch 40, CIFAR-10 Batch 3:  Loss:     0.2770 Validation Accuracy: 0.529000\n",
      "Epoch 40, CIFAR-10 Batch 4:  Loss:     0.3232 Validation Accuracy: 0.514600\n",
      "Epoch 40, CIFAR-10 Batch 5:  Loss:     0.2914 Validation Accuracy: 0.524200\n"
     ]
    }
   ],
   "source": [
    "\"\"\"\n",
    "DON'T MODIFY ANYTHING IN THIS CELL\n",
    "\"\"\"\n",
    "save_model_path = './image_classification'\n",
    "\n",
    "print('Training...')\n",
    "with tf.Session() as sess:\n",
    "    # Initializing the variables\n",
    "    sess.run(tf.global_variables_initializer())\n",
    "    \n",
    "    # Training cycle\n",
    "    for epoch in range(epochs):\n",
    "        # Loop over all batches\n",
    "        n_batches = 5\n",
    "        for batch_i in range(1, n_batches + 1):\n",
    "            for batch_features, batch_labels in helper.load_preprocess_training_batch(batch_i, batch_size):\n",
    "                train_neural_network(sess, optimizer, keep_probability, batch_features, batch_labels)\n",
    "            print('Epoch {:>2}, CIFAR-10 Batch {}:  '.format(epoch + 1, batch_i), end='')\n",
    "            print_stats(sess, batch_features, batch_labels, cost, accuracy)\n",
    "            \n",
    "    # Save Model\n",
    "    saver = tf.train.Saver()\n",
    "    save_path = saver.save(sess, save_model_path)"
   ]
  },
  {
   "cell_type": "markdown",
   "metadata": {
    "colab_type": "text",
    "id": "QK7s2u5YTIsC"
   },
   "source": [
    "# 检查点\n",
    "\n",
    "模型已保存到本地。\n",
    "\n",
    "## 测试模型\n",
    "\n",
    "利用测试数据集测试你的模型。这将是最终的准确率。你的准确率应该高于 50%。如果没达到，请继续调整模型结构和参数。"
   ]
  },
  {
   "cell_type": "code",
   "execution_count": 171,
   "metadata": {
    "colab": {
     "autoexec": {
      "startup": false,
      "wait_interval": 0
     },
     "base_uri": "https://localhost:8080/",
     "height": 388,
     "output_extras": [
      {
       "item_id": 2
      },
      {
       "item_id": 3
      }
     ]
    },
    "colab_type": "code",
    "executionInfo": {
     "elapsed": 4387,
     "status": "ok",
     "timestamp": 1522246496930,
     "user": {
      "displayName": "谢俊华",
      "photoUrl": "https://lh3.googleusercontent.com/a/default-user=s128",
      "userId": "105546544206578000210"
     },
     "user_tz": -480
    },
    "id": "Hel8Cl-LTIsC",
    "outputId": "cb35c781-2ea6-437f-9c0b-2818f83a298d"
   },
   "outputs": [
    {
     "name": "stdout",
     "output_type": "stream",
     "text": [
      "INFO:tensorflow:Restoring parameters from ./image_classification\n",
      "Testing Accuracy: 0.52421875\n",
      "\n"
     ]
    },
    {
     "data": {
      "image/png": "[encoded data removed]",
      "text/plain": [
       "<matplotlib.figure.Figure at 0x7f6b8fffcf28>"
      ]
     },
     "metadata": {
      "image/png": {
       "height": 319,
       "width": 354
      },
      "tags": []
     },
     "output_type": "display_data"
    }
   ],
   "source": [
    "\"\"\"\n",
    "DON'T MODIFY ANYTHING IN THIS CELL\n",
    "\"\"\"\n",
    "%matplotlib inline\n",
    "%config InlineBackend.figure_format = 'retina'\n",
    "\n",
    "import tensorflow as tf\n",
    "import pickle\n",
    "import helper\n",
    "import random\n",
    "\n",
    "# Set batch size if not already set\n",
    "try:\n",
    "    if batch_size:\n",
    "        pass\n",
    "except NameError:\n",
    "    batch_size = 64\n",
    "\n",
    "save_model_path = './image_classification'\n",
    "n_samples = 4\n",
    "top_n_predictions = 3\n",
    "\n",
    "def test_model():\n",
    "    \"\"\"\n",
    "    Test the saved model against the test dataset\n",
    "    \"\"\"\n",
    "\n",
    "    test_features, test_labels = pickle.load(open('preprocess_test.p', mode='rb'))\n",
    "    loaded_graph = tf.Graph()\n",
    "\n",
    "    with tf.Session(graph=loaded_graph) as sess:\n",
    "        # Load model\n",
    "        loader = tf.train.import_meta_graph(save_model_path + '.meta')\n",
    "        loader.restore(sess, save_model_path)\n",
    "\n",
    "        # Get Tensors from loaded model\n",
    "        loaded_x = loaded_graph.get_tensor_by_name('x:0')\n",
    "        loaded_y = loaded_graph.get_tensor_by_name('y:0')\n",
    "        loaded_keep_prob = loaded_graph.get_tensor_by_name('keep_prob:0')\n",
    "        loaded_logits = loaded_graph.get_tensor_by_name('logits:0')\n",
    "        loaded_acc = loaded_graph.get_tensor_by_name('accuracy:0')\n",
    "        \n",
    "        # Get accuracy in batches for memory limitations\n",
    "        test_batch_acc_total = 0\n",
    "        test_batch_count = 0\n",
    "        \n",
    "        for test_feature_batch, test_label_batch in helper.batch_features_labels(test_features, test_labels, batch_size):\n",
    "            test_batch_acc_total += sess.run(\n",
    "                loaded_acc,\n",
    "                feed_dict={loaded_x: test_feature_batch, loaded_y: test_label_batch, loaded_keep_prob: 1.0})\n",
    "            test_batch_count += 1\n",
    "\n",
    "        print('Testing Accuracy: {}\\n'.format(test_batch_acc_total/test_batch_count))\n",
    "\n",
    "        # Print Random Samples\n",
    "        random_test_features, random_test_labels = tuple(zip(*random.sample(list(zip(test_features, test_labels)), n_samples)))\n",
    "        random_test_predictions = sess.run(\n",
    "            tf.nn.top_k(tf.nn.softmax(loaded_logits), top_n_predictions),\n",
    "            feed_dict={loaded_x: random_test_features, loaded_y: random_test_labels, loaded_keep_prob: 1.0})\n",
    "        helper.display_image_predictions(random_test_features, random_test_labels, random_test_predictions)\n",
    "\n",
    "\n",
    "test_model()"
   ]
  },
  {
   "cell_type": "markdown",
   "metadata": {
    "colab_type": "text",
    "id": "7wdGvpgiTIsD"
   },
   "source": [
    "## 为何准确率只有50-80%？\n",
    "\n",
    "你可能想问，为何准确率不能更高了？首先，对于简单的 CNN 网络来说，50% 已经不低了。纯粹猜测的准确率为10%。但是，你可能注意到有人的准确率[远远超过 80%](http://rodrigob.github.io/are_we_there_yet/build/classification_datasets_results.html#43494641522d3130)。这是因为我们还没有介绍所有的神经网络知识。我们还需要掌握一些其他技巧。\n",
    "\n",
    "## 提交项目\n",
    "\n",
    "提交项目时，确保先运行所有单元，然后再保存记事本。将 notebook 文件另存为“dlnd_image_classification.ipynb”，再在目录 \"File\" -> \"Download as\" 另存为 HTML 格式。请在提交的项目中包含 “helper.py” 和 “problem_unittests.py” 文件。\n"
   ]
  }
 ],
 "metadata": {
  "accelerator": "GPU",
  "colab": {
   "collapsed_sections": [],
   "default_view": {},
   "name": "dlnd_image_classification.ipynb",
   "provenance": [],
   "version": "0.3.2",
   "views": {}
  },
  "kernelspec": {
   "display_name": "Python 3",
   "language": "python",
   "name": "python3"
  },
  "language_info": {
   "codemirror_mode": {
    "name": "ipython",
    "version": 3
   },
   "file_extension": ".py",
   "mimetype": "text/x-python",
   "name": "python",
   "nbconvert_exporter": "python",
   "pygments_lexer": "ipython3",
   "version": "3.6.3"
  },
  "latex_envs": {
   "LaTeX_envs_menu_present": true,
   "autocomplete": true,
   "bibliofile": "biblio.bib",
   "cite_by": "apalike",
   "current_citInitial": 1,
   "eqLabelWithNumbers": true,
   "eqNumInitial": 1,
   "hotkeys": {
    "equation": "Ctrl-E",
    "itemize": "Ctrl-I"
   },
   "labels_anchors": false,
   "latex_user_defs": false,
   "report_style_numbering": false,
   "user_envs_cfg": false
  }
 },
 "nbformat": 4,
 "nbformat_minor": 1
}
